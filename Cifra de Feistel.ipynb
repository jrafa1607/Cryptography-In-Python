{
 "cells": [
  {
   "cell_type": "code",
   "execution_count": 2,
   "metadata": {},
   "outputs": [],
   "source": [
    "# Python program to demonstrate\n",
    "# Feistel Cipher Algorithm\n",
    "\n",
    "import binascii"
   ]
  },
  {
   "cell_type": "code",
   "execution_count": 3,
   "metadata": {},
   "outputs": [],
   "source": [
    "# Random bits key generation\n",
    "def rand_key(p):\n",
    "    import random\n",
    "    key1 = \"\"\n",
    "    p = int(p)\n",
    "    \n",
    "    for i in range(p):\n",
    "        temp = random.randint(0,1)\n",
    "        temp = str(temp)\n",
    "        key1 = key1 + temp\n",
    "\n",
    "    return(key1)"
   ]
  },
  {
   "cell_type": "code",
   "execution_count": 4,
   "metadata": {},
   "outputs": [],
   "source": [
    "# Function to implement bit exor\n",
    "def exor(a,b):\n",
    "    temp = \"\"\n",
    "    \n",
    "    for i in range(n):\n",
    "        if (a[i] == b[i]):\n",
    "            temp += \"0\"\n",
    "        else:\n",
    "            temp += \"1\"\n",
    "\n",
    "    return temp"
   ]
  },
  {
   "cell_type": "code",
   "execution_count": 5,
   "metadata": {},
   "outputs": [],
   "source": [
    "# Defining BinarytoDecimal() function\n",
    "def BinaryToDecimal(binary):\n",
    "\n",
    "    # Using int function to convert to\n",
    "    # string\n",
    "    string = int(binary, 2)\n",
    "    \n",
    "    return string"
   ]
  },
  {
   "cell_type": "code",
   "execution_count": 6,
   "metadata": {},
   "outputs": [
    {
     "name": "stdout",
     "output_type": "stream",
     "text": [
      "Plain Text is: Hello\n"
     ]
    }
   ],
   "source": [
    "# Feistel Cipher\n",
    "PT = \"Hello\"\n",
    "print(\"Plain Text is:\", PT)\n",
    "\n",
    "# Converting the plain text to\n",
    "# ASCII\n",
    "PT_Ascii = [ord(x) for x in PT]\n",
    "\n",
    "# Converting the ASCII to\n",
    "# 8-bit binary format\n",
    "PT_Bin = [format(y,'08b') for y in PT_Ascii]\n",
    "PT_Bin = \"\".join(PT_Bin)\n",
    "\n",
    "n = int(len(PT_Bin)//2)\n",
    "L1 = PT_Bin[0:n]\n",
    "R1 = PT_Bin[n::]\n",
    "m = len(R1)"
   ]
  },
  {
   "cell_type": "code",
   "execution_count": 7,
   "metadata": {},
   "outputs": [
    {
     "name": "stdout",
     "output_type": "stream",
     "text": [
      "Cipher Text:  m\u0007\u001e",
      "\u0013\u001e",
      "\n"
     ]
    }
   ],
   "source": [
    "# Generate Key K1 for the\n",
    "# first round\n",
    "K1= rand_key(m)\n",
    "\n",
    "# Generate Key K2 for the\n",
    "# second round\n",
    "K2= rand_key(m)\n",
    "\n",
    "# first round of Feistel\n",
    "f1 = exor(R1,K1)\n",
    "R2 = exor(f1,L1)\n",
    "L2 = R1\n",
    "\n",
    "# Second round of Feistel\n",
    "f2 = exor(R2,K2)\n",
    "R3 = exor(f2,L2)\n",
    "L3 = R2\n",
    "\n",
    "# Cipher text\n",
    "bin_data = L3 + R3\n",
    "str_data =' '\n",
    "\n",
    "for i in range(0, len(bin_data), 7):\n",
    "    # slicing the bin_data from index range [0, 6]\n",
    "    # and storing it in temp_data\n",
    "    temp_data = bin_data[i:i + 7]\n",
    "    \n",
    "    # passing temp_data in BinarytoDecimal() function\n",
    "    # to get decimal value of corresponding temp_data\n",
    "    decimal_data = BinaryToDecimal(temp_data)\n",
    "    \n",
    "    # Decoding the decimal value returned by\n",
    "    # BinarytoDecimal() function, using chr()\n",
    "    # function which return the string corresponding\n",
    "    # character for given ASCII value, and store it\n",
    "    # in str_data\n",
    "    str_data = str_data + chr(decimal_data)\n",
    "    \n",
    "print(\"Cipher Text:\", str_data)"
   ]
  },
  {
   "cell_type": "code",
   "execution_count": 8,
   "metadata": {},
   "outputs": [
    {
     "name": "stdout",
     "output_type": "stream",
     "text": [
      "Retrieved Plain Text is:  b'Hello'\n"
     ]
    }
   ],
   "source": [
    "# Decryption\n",
    "L4 = L3\n",
    "R4 = R3\n",
    "\n",
    "f3 = exor(L4,K2)\n",
    "L5 = exor(R4,f3)\n",
    "R5 = L4\n",
    "\n",
    "f4 = exor(L5,K1)\n",
    "L6 = exor(R5,f4)\n",
    "R6 = L5\n",
    "PT1 = L6+R6\n",
    "\n",
    "\n",
    "PT1 = int(PT1, 2)\n",
    "RPT = binascii.unhexlify( '%x'% PT1)\n",
    "print(\"Retrieved Plain Text is: \", RPT)"
   ]
  }
 ],
 "metadata": {
  "kernelspec": {
   "display_name": "Python 3",
   "language": "python",
   "name": "python3"
  },
  "language_info": {
   "codemirror_mode": {
    "name": "ipython",
    "version": 3
   },
   "file_extension": ".py",
   "mimetype": "text/x-python",
   "name": "python",
   "nbconvert_exporter": "python",
   "pygments_lexer": "ipython3",
   "version": "3.8.5"
  }
 },
 "nbformat": 4,
 "nbformat_minor": 4
}
