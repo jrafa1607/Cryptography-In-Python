{
 "cells": [
  {
   "cell_type": "code",
   "execution_count": 1,
   "metadata": {},
   "outputs": [],
   "source": [
    "# We need the alphabet because we convert letters into numerical values\n",
    "# To be able to use mathematical operations (note we encrypt the spaces as well)\n",
    "\n",
    "ALPHABET = ' ABCDEFGHIJKLMNOPQRSTUVWXYZ'\n",
    "KEY = 3"
   ]
  },
  {
   "cell_type": "code",
   "execution_count": 2,
   "metadata": {},
   "outputs": [
    {
     "name": "stdout",
     "output_type": "stream",
     "text": [
      "The index of letter E is: 5\n"
     ]
    }
   ],
   "source": [
    "#Now, we have to find the numerical represation for each caracter in the alphabet\n",
    "#For example:\n",
    "\n",
    "c = 'E'\n",
    "index = ALPHABET.find(c)\n",
    "print(\"The index of letter \" + str(c) + \" is: \" + str(index))"
   ]
  },
  {
   "cell_type": "code",
   "execution_count": 3,
   "metadata": {},
   "outputs": [
    {
     "name": "stdout",
     "output_type": "stream",
     "text": [
      "The index of letter E is: 8\n"
     ]
    }
   ],
   "source": [
    "#After That, is necessary identifiy the letter and your numerical index\n",
    "#For Example with Key \"3\" and the Letter \"E\"\n",
    "\n",
    "c = 'E'\n",
    "index = ALPHABET.find(c)\n",
    "#For now, the value is 5\n",
    "index = (index + KEY) % len(ALPHABET)\n",
    "#Now, the new index is (5 + 3) mod 26\n",
    "#Mod is used to correct values like 27,28,29...n\n",
    "print(\"The index of letter \" + str(c) + \" is: \" + str(index))"
   ]
  },
  {
   "cell_type": "code",
   "execution_count": 4,
   "metadata": {},
   "outputs": [],
   "source": [
    "def caesar_encrypt(plain_text):\n",
    "    # the encrypted message\n",
    "    cipher_text = ''\n",
    "    # we make the algorithm case insensitive\n",
    "    plain_text = plain_text.upper()\n",
    "\n",
    "    # consider all the letters in the plain_text\n",
    "    for c in plain_text:\n",
    "        # find the numerical representation (index) associated with\n",
    "        # that character in the alphabet\n",
    "        index = ALPHABET.find(c)\n",
    "        # caesar encryption is just a simple shift of characters according\n",
    "        # to the key use modular arithmetic to transform the values within\n",
    "        # the range [0,num_of_letters_in_alphabet]\n",
    "        index = (index + KEY) % len(ALPHABET)\n",
    "        # keep appending the encrypted character to the cipher_text\n",
    "        cipher_text = cipher_text + ALPHABET[index]\n",
    "\n",
    "    return cipher_text"
   ]
  },
  {
   "cell_type": "code",
   "execution_count": 5,
   "metadata": {},
   "outputs": [],
   "source": [
    "def caesar_decrypt(cipher_text):\n",
    "\n",
    "    plain_text = ''\n",
    "\n",
    "    for c in cipher_text:\n",
    "        index = ALPHABET.find(c)\n",
    "        index = (index - KEY) % len(ALPHABET)\n",
    "        plain_text = plain_text + ALPHABET[index]\n",
    "\n",
    "    return plain_text"
   ]
  },
  {
   "cell_type": "code",
   "execution_count": 6,
   "metadata": {},
   "outputs": [
    {
     "name": "stdout",
     "output_type": "stream",
     "text": [
      "Crypted Text: FLIUDCGHCFHVDU\n",
      "CIFRA DE CESAR\n"
     ]
    }
   ],
   "source": [
    "#Application Example\n",
    "text = 'Cifra de Cesar'\n",
    "\n",
    "encrypted = caesar_encrypt(text)\n",
    "print(str(\"Crypted Text: \" + encrypted))\n",
    "print(caesar_decrypt(encrypted))"
   ]
  },
  {
   "cell_type": "code",
   "execution_count": 7,
   "metadata": {},
   "outputs": [],
   "source": [
    "#Brute Force tin Crypted Text"
   ]
  },
  {
   "cell_type": "code",
   "execution_count": 8,
   "metadata": {},
   "outputs": [],
   "source": [
    "def crack_caesar(cipher_text):\n",
    "    # we try all the possible key values so the size of the ALPHABET\n",
    "    for key in range(len(ALPHABET)):\n",
    "        # reinitialize this to be an empty string\n",
    "        plain_text = ''\n",
    "\n",
    "        # we just have to make a simple caesar decryption\n",
    "        for c in cipher_text:\n",
    "            index = ALPHABET.find(c)\n",
    "            index = (index - key) % len(ALPHABET)\n",
    "            plain_text = plain_text + ALPHABET[index]\n",
    "\n",
    "        # print the actual decrypted string with the given key\n",
    "        print('With key %s, the result is: %s' % (key, plain_text))"
   ]
  },
  {
   "cell_type": "code",
   "execution_count": 9,
   "metadata": {},
   "outputs": [
    {
     "name": "stdout",
     "output_type": "stream",
     "text": [
      "With key 0, the result is: VJKUBKUBCBOGUUCIG\n",
      "With key 1, the result is: UIJTAJTABANFTTBHF\n",
      "With key 2, the result is: THIS IS A MESSAGE\n",
      "With key 3, the result is: SGHRZHRZ ZLDRR FD\n",
      "With key 4, the result is: RFGQYGQYZYKCQQZEC\n",
      "With key 5, the result is: QEFPXFPXYXJBPPYDB\n",
      "With key 6, the result is: PDEOWEOWXWIAOOXCA\n",
      "With key 7, the result is: OCDNVDNVWVH NNWB \n",
      "With key 8, the result is: NBCMUCMUVUGZMMVAZ\n",
      "With key 9, the result is: MABLTBLTUTFYLLU Y\n",
      "With key 10, the result is: L AKSAKSTSEXKKTZX\n",
      "With key 11, the result is: KZ JR JRSRDWJJSYW\n",
      "With key 12, the result is: JYZIQZIQRQCVIIRXV\n",
      "With key 13, the result is: IXYHPYHPQPBUHHQWU\n",
      "With key 14, the result is: HWXGOXGOPOATGGPVT\n",
      "With key 15, the result is: GVWFNWFNON SFFOUS\n",
      "With key 16, the result is: FUVEMVEMNMZREENTR\n",
      "With key 17, the result is: ETUDLUDLMLYQDDMSQ\n",
      "With key 18, the result is: DSTCKTCKLKXPCCLRP\n",
      "With key 19, the result is: CRSBJSBJKJWOBBKQO\n",
      "With key 20, the result is: BQRAIRAIJIVNAAJPN\n",
      "With key 21, the result is: APQ HQ HIHUM  IOM\n",
      "With key 22, the result is:  OPZGPZGHGTLZZHNL\n",
      "With key 23, the result is: ZNOYFOYFGFSKYYGMK\n",
      "With key 24, the result is: YMNXENXEFERJXXFLJ\n",
      "With key 25, the result is: XLMWDMWDEDQIWWEKI\n",
      "With key 26, the result is: WKLVCLVCDCPHVVDJH\n"
     ]
    }
   ],
   "source": [
    "encrypted = 'VJKUBKUBCBOGUUCIG'\n",
    "crack_caesar(encrypted)"
   ]
  },
  {
   "cell_type": "code",
   "execution_count": 10,
   "metadata": {},
   "outputs": [
    {
     "name": "stdout",
     "output_type": "stream",
     "text": [
      "With key 0, the result is: FLIUDCGHCFHVDU\n",
      "With key 1, the result is: EKHTCBFGBEGUCT\n",
      "With key 2, the result is: DJGSBAEFADFTBS\n",
      "With key 3, the result is: CIFRA DE CESAR\n",
      "With key 4, the result is: BHEQ ZCDZBDR Q\n",
      "With key 5, the result is: AGDPZYBCYACQZP\n",
      "With key 6, the result is:  FCOYXABX BPYO\n",
      "With key 7, the result is: ZEBNXW AWZAOXN\n",
      "With key 8, the result is: YDAMWVZ VY NWM\n",
      "With key 9, the result is: XC LVUYZUXZMVL\n",
      "With key 10, the result is: WBZKUTXYTWYLUK\n",
      "With key 11, the result is: VAYJTSWXSVXKTJ\n",
      "With key 12, the result is: U XISRVWRUWJSI\n",
      "With key 13, the result is: TZWHRQUVQTVIRH\n",
      "With key 14, the result is: SYVGQPTUPSUHQG\n",
      "With key 15, the result is: RXUFPOSTORTGPF\n",
      "With key 16, the result is: QWTEONRSNQSFOE\n",
      "With key 17, the result is: PVSDNMQRMPREND\n",
      "With key 18, the result is: OURCMLPQLOQDMC\n",
      "With key 19, the result is: NTQBLKOPKNPCLB\n",
      "With key 20, the result is: MSPAKJNOJMOBKA\n",
      "With key 21, the result is: LRO JIMNILNAJ \n",
      "With key 22, the result is: KQNZIHLMHKM IZ\n",
      "With key 23, the result is: JPMYHGKLGJLZHY\n",
      "With key 24, the result is: IOLXGFJKFIKYGX\n",
      "With key 25, the result is: HNKWFEIJEHJXFW\n",
      "With key 26, the result is: GMJVEDHIDGIWEV\n"
     ]
    }
   ],
   "source": [
    "encrypted2 = 'FLIUDCGHCFHVDU'\n",
    "crack_caesar(encrypted2)"
   ]
  }
 ],
 "metadata": {
  "kernelspec": {
   "display_name": "Python 3",
   "language": "python",
   "name": "python3"
  },
  "language_info": {
   "codemirror_mode": {
    "name": "ipython",
    "version": 3
   },
   "file_extension": ".py",
   "mimetype": "text/x-python",
   "name": "python",
   "nbconvert_exporter": "python",
   "pygments_lexer": "ipython3",
   "version": "3.8.5"
  }
 },
 "nbformat": 4,
 "nbformat_minor": 4
}
