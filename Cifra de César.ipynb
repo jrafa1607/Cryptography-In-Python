{
 "cells": [
  {
   "cell_type": "code",
   "execution_count": 1,
   "metadata": {},
   "outputs": [
    {
     "name": "stdout",
     "output_type": "stream",
     "text": [
      "Alfabeto:  ABCDEFGHIJKLMNOPQRSTUVWXYZ\n",
      "Total de Letras + Espaços: 27\n"
     ]
    }
   ],
   "source": [
    "#Inicialmente, define-se na variável as letras do Alfabeto + Espaço em Branco\n",
    "#Desta forma, será possível realizar as operações matemáticas.\n",
    "\n",
    "ALPHABET = ' ABCDEFGHIJKLMNOPQRSTUVWXYZ'\n",
    "print(\"Alfabeto: \" + str(ALPHABET))\n",
    "print(\"Total de Letras + Espaços: \" + str(len(ALPHABET)))"
   ]
  },
  {
   "cell_type": "code",
   "execution_count": 2,
   "metadata": {},
   "outputs": [],
   "source": [
    "#Define-se a Key, ou seja, a chave de decriptação:\n",
    "KEY = 6"
   ]
  },
  {
   "cell_type": "code",
   "execution_count": 3,
   "metadata": {},
   "outputs": [
    {
     "name": "stdout",
     "output_type": "stream",
     "text": [
      "O Índice da Letra M é: 13\n"
     ]
    }
   ],
   "source": [
    "#Escolhe-se uma letra de Exemplo eidentifica-se seu índice\n",
    "\n",
    "c = 'M'\n",
    "index = ALPHABET.find(c)\n",
    "print(\"O Índice da Letra \" + str(c) + \" é: \" + str(index))"
   ]
  },
  {
   "cell_type": "code",
   "execution_count": 4,
   "metadata": {},
   "outputs": [
    {
     "name": "stdout",
     "output_type": "stream",
     "text": [
      "O Índice da Letra M é: 19\n"
     ]
    }
   ],
   "source": [
    "#Efetua-se a soma do valor do Índice com o valor da chave.\n",
    "#Em seguida, faz a divisão do índice pelo total de letras no alfabeto (mod26)\n",
    "#Utiliza-se mod pq a soma pode ultrapassar o total de letras no alfabeto: 27,28,29,30...\n",
    "\n",
    "index = (index + KEY) % len(ALPHABET)\n",
    "print(\"O Índice da Letra \" + str(c) + \" é: \" + str(index))"
   ]
  },
  {
   "cell_type": "code",
   "execution_count": 5,
   "metadata": {},
   "outputs": [],
   "source": [
    "#Função para Criptografar\n",
    "#Recebe um Texto Limpo, Transforma todas as letras em Maíscula\n",
    "#Para cada letra, calcula o índice, soma o valor com a chave e acrescenta o novo índice na variável cifrada\n",
    "\n",
    "def caesar_encrypt(plain_text):\n",
    "    cipher_text = ''\n",
    "    plain_text = plain_text.upper()\n",
    "\n",
    "    for c in plain_text:\n",
    "        index = ALPHABET.find(c)\n",
    "        index = (index + KEY) % len(ALPHABET)\n",
    "        cipher_text = cipher_text + ALPHABET[index]\n",
    "\n",
    "    return cipher_text"
   ]
  },
  {
   "cell_type": "code",
   "execution_count": 6,
   "metadata": {},
   "outputs": [],
   "source": [
    "#Função para Descriptografar\n",
    "#Recebe um texto cifrado, e para cada letra, efetua a subtração do valor do índice pela chave\n",
    "#E depois acrescenta no texto Limpo\n",
    "\n",
    "def caesar_decrypt(cipher_text):\n",
    "    plain_text = ''\n",
    "\n",
    "    for c in cipher_text:\n",
    "        index = ALPHABET.find(c)\n",
    "        index = (index - KEY) % len(ALPHABET)\n",
    "        plain_text = plain_text + ALPHABET[index]\n",
    "\n",
    "    return plain_text"
   ]
  },
  {
   "cell_type": "code",
   "execution_count": 7,
   "metadata": {},
   "outputs": [
    {
     "name": "stdout",
     "output_type": "stream",
     "text": [
      "Texto Criptografado: KCKSVRUFIUSFIOLXGFJKFIKYGX\n",
      "Texto Descriptografado: EXEMPLO COM CIFRA DE CESAR\n"
     ]
    }
   ],
   "source": [
    "#Exemplo de Aplicação\n",
    "text = 'Exemplo com Cifra de Cesar'\n",
    "\n",
    "encrypted = caesar_encrypt(text)\n",
    "print(str(\"Texto Criptografado: \" + encrypted))\n",
    "print(str(\"Texto Descriptografado: \" + caesar_decrypt(encrypted)))"
   ]
  },
  {
   "cell_type": "code",
   "execution_count": 8,
   "metadata": {},
   "outputs": [],
   "source": [
    "#Desenvolvendo uma função de Força Bruta para a Cifra de César\n",
    "#A função irá percorrer todas as letras do alfabeto e para cada índice, tenta o decript do texto\n",
    "#Por fim, faz um print do código obtido naquela tentativa.\n",
    "\n",
    "def crack_caesar(cipher_text):\n",
    "\n",
    "    for key in range(len(ALPHABET)):\n",
    "        plain_text = ''\n",
    "\n",
    "        for c in cipher_text:\n",
    "            index = ALPHABET.find(c)\n",
    "            index = (index - key) % len(ALPHABET)\n",
    "            plain_text = plain_text + ALPHABET[index]\n",
    "\n",
    "        print('With key %s, the result is: %s' % (key, plain_text))"
   ]
  },
  {
   "cell_type": "code",
   "execution_count": 9,
   "metadata": {},
   "outputs": [
    {
     "name": "stdout",
     "output_type": "stream",
     "text": [
      "With key 0, the result is: VJKUBKUBCBOGUUCIG\n",
      "With key 1, the result is: UIJTAJTABANFTTBHF\n",
      "With key 2, the result is: THIS IS A MESSAGE\n",
      "With key 3, the result is: SGHRZHRZ ZLDRR FD\n",
      "With key 4, the result is: RFGQYGQYZYKCQQZEC\n",
      "With key 5, the result is: QEFPXFPXYXJBPPYDB\n",
      "With key 6, the result is: PDEOWEOWXWIAOOXCA\n",
      "With key 7, the result is: OCDNVDNVWVH NNWB \n",
      "With key 8, the result is: NBCMUCMUVUGZMMVAZ\n",
      "With key 9, the result is: MABLTBLTUTFYLLU Y\n",
      "With key 10, the result is: L AKSAKSTSEXKKTZX\n",
      "With key 11, the result is: KZ JR JRSRDWJJSYW\n",
      "With key 12, the result is: JYZIQZIQRQCVIIRXV\n",
      "With key 13, the result is: IXYHPYHPQPBUHHQWU\n",
      "With key 14, the result is: HWXGOXGOPOATGGPVT\n",
      "With key 15, the result is: GVWFNWFNON SFFOUS\n",
      "With key 16, the result is: FUVEMVEMNMZREENTR\n",
      "With key 17, the result is: ETUDLUDLMLYQDDMSQ\n",
      "With key 18, the result is: DSTCKTCKLKXPCCLRP\n",
      "With key 19, the result is: CRSBJSBJKJWOBBKQO\n",
      "With key 20, the result is: BQRAIRAIJIVNAAJPN\n",
      "With key 21, the result is: APQ HQ HIHUM  IOM\n",
      "With key 22, the result is:  OPZGPZGHGTLZZHNL\n",
      "With key 23, the result is: ZNOYFOYFGFSKYYGMK\n",
      "With key 24, the result is: YMNXENXEFERJXXFLJ\n",
      "With key 25, the result is: XLMWDMWDEDQIWWEKI\n",
      "With key 26, the result is: WKLVCLVCDCPHVVDJH\n"
     ]
    }
   ],
   "source": [
    "#Exemplo de Aplicação\n",
    "\n",
    "encrypted = 'VJKUBKUBCBOGUUCIG'\n",
    "crack_caesar(encrypted)"
   ]
  },
  {
   "cell_type": "code",
   "execution_count": 10,
   "metadata": {},
   "outputs": [
    {
     "name": "stdout",
     "output_type": "stream",
     "text": [
      "With key 0, the result is: FLIUDCGHCFHVDU\n",
      "With key 1, the result is: EKHTCBFGBEGUCT\n",
      "With key 2, the result is: DJGSBAEFADFTBS\n",
      "With key 3, the result is: CIFRA DE CESAR\n",
      "With key 4, the result is: BHEQ ZCDZBDR Q\n",
      "With key 5, the result is: AGDPZYBCYACQZP\n",
      "With key 6, the result is:  FCOYXABX BPYO\n",
      "With key 7, the result is: ZEBNXW AWZAOXN\n",
      "With key 8, the result is: YDAMWVZ VY NWM\n",
      "With key 9, the result is: XC LVUYZUXZMVL\n",
      "With key 10, the result is: WBZKUTXYTWYLUK\n",
      "With key 11, the result is: VAYJTSWXSVXKTJ\n",
      "With key 12, the result is: U XISRVWRUWJSI\n",
      "With key 13, the result is: TZWHRQUVQTVIRH\n",
      "With key 14, the result is: SYVGQPTUPSUHQG\n",
      "With key 15, the result is: RXUFPOSTORTGPF\n",
      "With key 16, the result is: QWTEONRSNQSFOE\n",
      "With key 17, the result is: PVSDNMQRMPREND\n",
      "With key 18, the result is: OURCMLPQLOQDMC\n",
      "With key 19, the result is: NTQBLKOPKNPCLB\n",
      "With key 20, the result is: MSPAKJNOJMOBKA\n",
      "With key 21, the result is: LRO JIMNILNAJ \n",
      "With key 22, the result is: KQNZIHLMHKM IZ\n",
      "With key 23, the result is: JPMYHGKLGJLZHY\n",
      "With key 24, the result is: IOLXGFJKFIKYGX\n",
      "With key 25, the result is: HNKWFEIJEHJXFW\n",
      "With key 26, the result is: GMJVEDHIDGIWEV\n"
     ]
    }
   ],
   "source": [
    "#Outro Exemplo de Aplicação\n",
    "\n",
    "encrypted2 = 'FLIUDCGHCFHVDU'\n",
    "crack_caesar(encrypted2)"
   ]
  }
 ],
 "metadata": {
  "kernelspec": {
   "display_name": "Python 3",
   "language": "python",
   "name": "python3"
  },
  "language_info": {
   "codemirror_mode": {
    "name": "ipython",
    "version": 3
   },
   "file_extension": ".py",
   "mimetype": "text/x-python",
   "name": "python",
   "nbconvert_exporter": "python",
   "pygments_lexer": "ipython3",
   "version": "3.8.5"
  }
 },
 "nbformat": 4,
 "nbformat_minor": 4
}
