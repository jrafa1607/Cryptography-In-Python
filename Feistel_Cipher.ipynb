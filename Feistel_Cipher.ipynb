{
  "nbformat": 4,
  "nbformat_minor": 0,
  "metadata": {
    "colab": {
      "provenance": [],
      "toc_visible": true
    },
    "kernelspec": {
      "name": "python3",
      "display_name": "Python 3"
    },
    "language_info": {
      "name": "python"
    }
  },
  "cells": [
    {
      "cell_type": "code",
      "execution_count": 1,
      "metadata": {
        "id": "pe5AWCPC8koj"
      },
      "outputs": [],
      "source": [
        "#Implementação em Python da Cifra de Feistel (Horst Feistel)\n",
        "#Descrição da Cifra: https://pt.alegsaonline.com/art/33900"
      ]
    },
    {
      "cell_type": "code",
      "source": [
        "#import das biblioteca para realizar conversões de valores ASCII\n",
        "import binascii"
      ],
      "metadata": {
        "id": "oabmQYa-8y_n"
      },
      "execution_count": 2,
      "outputs": []
    },
    {
      "cell_type": "code",
      "source": [
        "#Import das demais bibliotecas\n",
        "import random"
      ],
      "metadata": {
        "id": "3otzcSMd83Gg"
      },
      "execution_count": 3,
      "outputs": []
    },
    {
      "cell_type": "code",
      "source": [
        "#Criando uma função para gerar os valores aleatórios\n",
        "#Desta forma, será definida a primeira chave com um range de valores aleatórios entre 0 e 1\n",
        "\n",
        "def rand_key(p):\n",
        "    key1 = \"\"\n",
        "    p = int(p)\n",
        "\n",
        "    for i in range(p):\n",
        "        temp = random.randint(0,1)\n",
        "        temp = str(temp)\n",
        "        key1 = key1 + temp\n",
        "\n",
        "    return(key1)"
      ],
      "metadata": {
        "id": "50ScJKNP859P"
      },
      "execution_count": 4,
      "outputs": []
    },
    {
      "cell_type": "code",
      "source": [
        "#Exemplo de um range com 5 caracteres com valores entre 0 e 1\n",
        "key1 = \"\"\n",
        "p = 5\n",
        "\n",
        "for i in range(p):\n",
        "    temp = str(random.randint(0,1))\n",
        "    key1 = key1 + temp\n",
        "\n",
        "    print(key1)"
      ],
      "metadata": {
        "colab": {
          "base_uri": "https://localhost:8080/"
        },
        "id": "IVw3l3lg89QW",
        "outputId": "b2dccc57-3908-43a0-ae17-12a12d27e00d"
      },
      "execution_count": 5,
      "outputs": [
        {
          "output_type": "stream",
          "name": "stdout",
          "text": [
            "0\n",
            "01\n",
            "010\n",
            "0101\n",
            "01010\n"
          ]
        }
      ]
    },
    {
      "cell_type": "code",
      "source": [
        "#Função para criar o Bit Exor\n",
        "def exor(a,b):\n",
        "    temp = \"\"\n",
        "\n",
        "    for i in range(n):\n",
        "        if (a[i] == b[i]):\n",
        "            temp += \"0\"\n",
        "        else:\n",
        "            temp += \"1\"\n",
        "\n",
        "    return temp"
      ],
      "metadata": {
        "id": "lyQCJ7NA9ANl"
      },
      "execution_count": 6,
      "outputs": []
    },
    {
      "cell_type": "code",
      "source": [
        "# Criando a função Binario para Decimal\n",
        "def BinaryToDecimal(binary):\n",
        "\n",
        "    string = int(binary, 2)\n",
        "    return string"
      ],
      "metadata": {
        "id": "dvMnaH7v9C8I"
      },
      "execution_count": 7,
      "outputs": []
    },
    {
      "cell_type": "code",
      "source": [
        "# Aplicação da Cifra de Feistel\n",
        "text = \"Algoritmo de Feisel\"\n",
        "print(\"O texto de entrada é:\", text)"
      ],
      "metadata": {
        "colab": {
          "base_uri": "https://localhost:8080/"
        },
        "id": "b3M0xyCp9HIV",
        "outputId": "d5bab170-1b85-4971-dbea-e0a5442ac6ba"
      },
      "execution_count": 8,
      "outputs": [
        {
          "output_type": "stream",
          "name": "stdout",
          "text": [
            "O texto de entrada é: Algoritmo de Feisel\n"
          ]
        }
      ]
    },
    {
      "cell_type": "code",
      "source": [
        "#Conversão do texto puro para seu valor em ASCII\n",
        "text_ascii = [ord(x) for x in text]\n",
        "print(text_ascii)"
      ],
      "metadata": {
        "colab": {
          "base_uri": "https://localhost:8080/"
        },
        "id": "6a4AMrpb9Jpr",
        "outputId": "581a1f1c-ceba-4409-dc6c-0f3947d08f14"
      },
      "execution_count": 9,
      "outputs": [
        {
          "output_type": "stream",
          "name": "stdout",
          "text": [
            "[65, 108, 103, 111, 114, 105, 116, 109, 111, 32, 100, 101, 32, 70, 101, 105, 115, 101, 108]\n"
          ]
        }
      ]
    },
    {
      "cell_type": "code",
      "source": [
        "#Conversão dos valores ASCII para 8bit\n",
        "text_bin = [format(y,'08b') for y in text_ascii]\n",
        "text_bin = \"\".join(text_bin)\n",
        "\n",
        "n = int(len(text_bin)//2)\n",
        "L1 = text_bin[0:n]\n",
        "R1 = text_bin[n::]\n",
        "m = len(R1)\n",
        "\n",
        "print(text_bin)\n",
        "print(\"\\nO total de caracteres após a conversão para 8bits é:\", m)"
      ],
      "metadata": {
        "colab": {
          "base_uri": "https://localhost:8080/"
        },
        "id": "kzwEV6Lw9OY5",
        "outputId": "b876c999-7af0-4fb9-ff22-b9c65dc97b6c"
      },
      "execution_count": 10,
      "outputs": [
        {
          "output_type": "stream",
          "name": "stdout",
          "text": [
            "01000001011011000110011101101111011100100110100101110100011011010110111100100000011001000110010100100000010001100110010101101001011100110110010101101100\n",
            "\n",
            "O total de caracteres após a conversão para 8bits é: 76\n"
          ]
        }
      ]
    },
    {
      "cell_type": "code",
      "source": [
        "#Processo de Descriptografia\n",
        "#Definição das duas chaves aleatórias passando o total de caracteres\n",
        "\n",
        "K1= rand_key(m)\n",
        "K2= rand_key(m)\n",
        "\n",
        "print(\"O valor de K1 é:\", K1)\n",
        "print(\"O valor de K2 é:\", K2)"
      ],
      "metadata": {
        "colab": {
          "base_uri": "https://localhost:8080/"
        },
        "id": "dAhnUfmX9Rr_",
        "outputId": "176c1d72-b157-4211-bd97-1340b304842a"
      },
      "execution_count": 11,
      "outputs": [
        {
          "output_type": "stream",
          "name": "stdout",
          "text": [
            "O valor de K1 é: 0001110101110001101111101001010000111010110001011100000010100111011001000000\n",
            "O valor de K2 é: 0001011101010001000001010101100001100101110000011111011000101100000001111010\n"
          ]
        }
      ]
    },
    {
      "cell_type": "code",
      "source": [
        "#Primeira rodada do ALgoritmo de Feisel\n",
        "f1 = exor(R1,K1)\n",
        "R2 = exor(f1,L1)\n",
        "L2 = R1\n",
        "\n",
        "print(L2)"
      ],
      "metadata": {
        "colab": {
          "base_uri": "https://localhost:8080/"
        },
        "id": "qaYiHsjW9aHs",
        "outputId": "fbf06af4-f8de-4ed3-c8b0-180cbfcdbb4b"
      },
      "execution_count": 12,
      "outputs": [
        {
          "output_type": "stream",
          "name": "stdout",
          "text": [
            "0000011001000110010100100000010001100110010101101001011100110110010101101100\n"
          ]
        }
      ]
    },
    {
      "cell_type": "code",
      "source": [
        "#Segunda rodada do ALgoritmo de Feisel\n",
        "f2 = exor(R2,K2)\n",
        "R3 = exor(f2,L2)\n",
        "L3 = R2\n",
        "\n",
        "print(L3)"
      ],
      "metadata": {
        "colab": {
          "base_uri": "https://localhost:8080/"
        },
        "id": "RxmeRy6T9eFv",
        "outputId": "2bb0224d-0f0f-47e5-da11-2cea6bd84034"
      },
      "execution_count": 13,
      "outputs": [
        {
          "output_type": "stream",
          "name": "stdout",
          "text": [
            "0101101001011011100010111111111100101110111110100010001111111100010111011110\n"
          ]
        }
      ]
    },
    {
      "cell_type": "code",
      "source": [
        "#Visualizando o texto cifrado\n",
        "bin_data = L3 + R3\n",
        "str_data =' '\n",
        "\n",
        "for i in range(0, len(bin_data), 7):\n",
        "    temp_data = bin_data[i:i + 7]\n",
        "\n",
        "    decimal_data = BinaryToDecimal(temp_data)\n",
        "    str_data = str_data + chr(decimal_data)\n",
        "\n",
        "print(\"Cipher Text:\", str_data)"
      ],
      "metadata": {
        "colab": {
          "base_uri": "https://localhost:8080/"
        },
        "id": "vY9eBd9I9iAX",
        "outputId": "39ec50a9-c187-4032-e3cd-88eb9864077a"
      },
      "execution_count": 14,
      "outputs": [
        {
          "output_type": "stream",
          "name": "stdout",
          "text": [
            "Cipher Text:  -\u0016q?y;t#~\u0017<K&7\u00142k5\u0005f\u0006\b\n"
          ]
        }
      ]
    },
    {
      "cell_type": "code",
      "source": [
        "#Visualizando o texto descriptografado\n",
        "#Primeira rodada para descriptografar\n",
        "\n",
        "L4 = L3\n",
        "R4 = R3\n",
        "\n",
        "print(R4)"
      ],
      "metadata": {
        "colab": {
          "base_uri": "https://localhost:8080/"
        },
        "id": "_WepM1j-_kAk",
        "outputId": "4344a12d-978c-427b-ad5f-079e9b3abc51"
      },
      "execution_count": 15,
      "outputs": [
        {
          "output_type": "stream",
          "name": "stdout",
          "text": [
            "0100101101001100110111001010001100101101011011010100001011100110000011001000\n"
          ]
        }
      ]
    },
    {
      "cell_type": "code",
      "source": [
        "#Segunda rodada para descriptografar\n",
        "\n",
        "f3 = exor(L4,K2)\n",
        "L5 = exor(R4,f3)\n",
        "R5 = L4\n",
        "\n",
        "print(L4)"
      ],
      "metadata": {
        "colab": {
          "base_uri": "https://localhost:8080/"
        },
        "id": "l_TEsXWX_qBo",
        "outputId": "266bd495-4a8e-4710-b4f4-e4e699c43af5"
      },
      "execution_count": 16,
      "outputs": [
        {
          "output_type": "stream",
          "name": "stdout",
          "text": [
            "0101101001011011100010111111111100101110111110100010001111111100010111011110\n"
          ]
        }
      ]
    },
    {
      "cell_type": "code",
      "source": [
        "#Somatório dos valores obtidos com a chave inicial\n",
        "\n",
        "f4 = exor(L5,K1)\n",
        "L6 = exor(R5,f4)\n",
        "R6 = L5\n",
        "PT1 = L6+R6\n",
        "\n",
        "print(PT1)"
      ],
      "metadata": {
        "colab": {
          "base_uri": "https://localhost:8080/"
        },
        "id": "l7Dw3Aol_tYG",
        "outputId": "7dbc3398-3dde-42f4-c135-883e04305ca5"
      },
      "execution_count": 17,
      "outputs": [
        {
          "output_type": "stream",
          "name": "stdout",
          "text": [
            "01000001011011000110011101101111011100100110100101110100011011010110111100100000011001000110010100100000010001100110010101101001011100110110010101101100\n"
          ]
        }
      ]
    },
    {
      "cell_type": "code",
      "source": [
        "#Descriptografando a Mensagem\n",
        "PT1 = int(PT1, 2)\n",
        "RPT = binascii.unhexlify( '%x'% PT1)\n",
        "print(\"Retrieved Plain Text is: \", RPT)"
      ],
      "metadata": {
        "colab": {
          "base_uri": "https://localhost:8080/"
        },
        "id": "sTKf7xCE_wrW",
        "outputId": "f42566bb-9c9b-4c68-9423-a4c1d3f522b7"
      },
      "execution_count": 18,
      "outputs": [
        {
          "output_type": "stream",
          "name": "stdout",
          "text": [
            "Retrieved Plain Text is:  b'Algoritmo de Feisel'\n"
          ]
        }
      ]
    }
  ]
}