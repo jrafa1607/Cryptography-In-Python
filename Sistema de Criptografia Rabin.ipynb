{
 "cells": [
  {
   "cell_type": "code",
   "execution_count": 1,
   "metadata": {},
   "outputs": [],
   "source": [
    "#Construção de um Algoritmo para a aplicação do Sistema de Criptografia de Michael Rabin\n",
    "#Link com mais informações: https://www.w3.org/History/1993/WWW/AccessAuthorization/Rabin.html"
   ]
  },
  {
   "cell_type": "code",
   "execution_count": 2,
   "metadata": {},
   "outputs": [],
   "source": [
    "#Aplicação em Python: https://www.geeksforgeeks.org/rabin-cryptosystem-with-implementation/"
   ]
  },
  {
   "cell_type": "code",
   "execution_count": 3,
   "metadata": {},
   "outputs": [],
   "source": [
    "#Aplicações no Github: \n",
    "\n",
    "# https://github.com/aman-17/rabin-cryptosystem\n",
    "# https://github.com/iamvpa/DeterministicRabinCryptosystem"
   ]
  }
 ],
 "metadata": {
  "kernelspec": {
   "display_name": "Python 3.9.1 64-bit",
   "language": "python",
   "name": "python3"
  },
  "language_info": {
   "codemirror_mode": {
    "name": "ipython",
    "version": 3
   },
   "file_extension": ".py",
   "mimetype": "text/x-python",
   "name": "python",
   "nbconvert_exporter": "python",
   "pygments_lexer": "ipython3",
   "version": "3.9.1"
  },
  "vscode": {
   "interpreter": {
    "hash": "2469a70536e4d2335a2ea8907942d0699c37342a371ac185bdb5b0aa6f073890"
   }
  }
 },
 "nbformat": 4,
 "nbformat_minor": 4
}
