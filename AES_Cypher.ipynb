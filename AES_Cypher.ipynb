{
  "nbformat": 4,
  "nbformat_minor": 0,
  "metadata": {
    "colab": {
      "provenance": []
    },
    "kernelspec": {
      "name": "python3",
      "display_name": "Python 3"
    },
    "language_info": {
      "name": "python"
    }
  },
  "cells": [
    {
      "cell_type": "code",
      "source": [
        "#Import das Libs\n",
        "from cryptography.hazmat.primitives.keywrap import aes_key_wrap, aes_key_unwrap\n",
        "from cryptography.hazmat.primitives.ciphers import Cipher, algorithms, modes\n",
        "from cryptography.hazmat.primitives.kdf.pbkdf2 import PBKDF2HMAC\n",
        "from cryptography.hazmat.primitives.padding import PKCS7\n",
        "from cryptography.hazmat.backends import default_backend\n",
        "from cryptography.hazmat.primitives import hashes\n",
        "import hashlib\n",
        "import base64\n",
        "import os"
      ],
      "metadata": {
        "id": "dLl6yM9zBHc0"
      },
      "execution_count": 1,
      "outputs": []
    },
    {
      "cell_type": "code",
      "source": [
        "#Realiza-se o Upload do Arquivo que deseja-se Criptografar para o Google Colab.\n",
        "path = \"/content/Teste.txt\""
      ],
      "metadata": {
        "id": "dZmeGNAUBHYW"
      },
      "execution_count": 2,
      "outputs": []
    },
    {
      "cell_type": "code",
      "source": [
        "#Criando uma Função para Gerar uma Chave + Salt\n",
        "def derive_key(password: str, salt: bytes) -> bytes:\n",
        "\n",
        "    kdf = PBKDF2HMAC(\n",
        "        algorithm=hashes.SHA256(),\n",
        "        length=32,\n",
        "        salt=salt,\n",
        "        iterations=100000,\n",
        "        backend=default_backend()\n",
        "    )\n",
        "    return kdf.derive(password.encode())"
      ],
      "metadata": {
        "id": "ZlA3cpHVBHWD"
      },
      "execution_count": 3,
      "outputs": []
    },
    {
      "cell_type": "code",
      "source": [
        "#Criando uma Função para Encriptar um Arquivo\n",
        "def encrypt_file(file_path: str, password: str) -> None:\n",
        "    with open(file_path, 'rb') as f:\n",
        "        plaintext = f.read()\n",
        "\n",
        "    # Geração da Chave + Salt\n",
        "    salt = os.urandom(16)\n",
        "    key = derive_key(password, salt)\n",
        "\n",
        "    # Start do Vetor de inicialização (IV)\n",
        "    iv = os.urandom(16)\n",
        "\n",
        "    # Setup do cifrador\n",
        "    cipher = Cipher(algorithms.AES(key), modes.CBC(iv), backend=default_backend())\n",
        "    encryptor = cipher.encryptor()\n",
        "\n",
        "    # Aplicação do Padding e da Criptografia AWS\n",
        "    padder = PKCS7(algorithms.AES.block_size).padder()\n",
        "    padded_data = padder.update(plaintext) + padder.finalize()\n",
        "    ciphertext = encryptor.update(padded_data) + encryptor.finalize()\n",
        "\n",
        "    # Salvando uma cópia do Arquivo Encriptado com AES\n",
        "    encrypted_file_path = file_path + '.enc'\n",
        "\n",
        "    with open(encrypted_file_path, 'wb') as f:\n",
        "        f.write(salt + iv + ciphertext)\n",
        "\n",
        "    #Exibição do Resultado\n",
        "    print(f\"Arquivo criptografado salvo em: {encrypted_file_path}\")"
      ],
      "metadata": {
        "id": "VtamWMDaCbIt"
      },
      "execution_count": 4,
      "outputs": []
    },
    {
      "cell_type": "code",
      "source": [
        "#Criando uma Função para Descriptar um Arquivo\n",
        "def decrypt_file(file_path: str, password: str) -> None:\n",
        "    with open(file_path, 'rb') as f:\n",
        "        data = f.read()\n",
        "\n",
        "    # Extração do SALT, IV + Texto Criptografado\n",
        "    salt = data[:16]\n",
        "    iv = data[16:32]\n",
        "    ciphertext = data[32:]\n",
        "\n",
        "    # Derivação da chave\n",
        "    key = derive_key(password, salt)\n",
        "\n",
        "    # Setup do Decifrador\n",
        "    cipher = Cipher(algorithms.AES(key), modes.CBC(iv), backend=default_backend())\n",
        "    decryptor = cipher.decryptor()\n",
        "\n",
        "    # Aplicação da Descriptografia + Remoção do Padding\n",
        "    padded_data = decryptor.update(ciphertext) + decryptor.finalize()\n",
        "    unpadder = PKCS7(algorithms.AES.block_size).unpadder()\n",
        "    plaintext = unpadder.update(padded_data) + unpadder.finalize()\n",
        "\n",
        "    # Salvando uma Cópia do Arquivo Descriptografado\n",
        "    decrypted_file_path = file_path.replace('.enc', '.dec')\n",
        "    with open(decrypted_file_path, 'wb') as f:\n",
        "        f.write(plaintext)\n",
        "\n",
        "    #Exibição do Resultado\n",
        "    print(f\"Arquivo descriptografado salvo em: {decrypted_file_path}\")"
      ],
      "metadata": {
        "id": "JQyk6Hl4CbGk"
      },
      "execution_count": 5,
      "outputs": []
    },
    {
      "cell_type": "code",
      "source": [
        "#Aplicação da Criptografia (Caminho do Arquivo , Senha)\n",
        "encrypt_file(path, '1234')"
      ],
      "metadata": {
        "colab": {
          "base_uri": "https://localhost:8080/"
        },
        "id": "xmoKLOu8CbEH",
        "outputId": "c44b0356-1b5a-44e0-a982-476f971150f7"
      },
      "execution_count": 6,
      "outputs": [
        {
          "output_type": "stream",
          "name": "stdout",
          "text": [
            "Arquivo criptografado salvo em: /content/Teste.txt.enc\n"
          ]
        }
      ]
    },
    {
      "cell_type": "code",
      "source": [
        "#Aplicação da Descriptografia (Caminho do Arquivo , Senha)\n",
        "decrypt_file('/content/Teste.txt.enc', '1234')"
      ],
      "metadata": {
        "colab": {
          "base_uri": "https://localhost:8080/"
        },
        "id": "DbUPQibjBHTz",
        "outputId": "a1adfdef-c196-4792-ecf5-625e71aa2462"
      },
      "execution_count": 7,
      "outputs": [
        {
          "output_type": "stream",
          "name": "stdout",
          "text": [
            "Arquivo descriptografado salvo em: /content/Teste.txt.dec\n"
          ]
        }
      ]
    },
    {
      "cell_type": "code",
      "source": [
        "#Exibindo o Valor do Conteúdo Original\n",
        "with open('/content/Teste.txt', 'r', encoding='utf-8') as arquivo:\n",
        "            org = arquivo.read()\n",
        "print(\"Conteúdo Original: \" + str(org))"
      ],
      "metadata": {
        "colab": {
          "base_uri": "https://localhost:8080/"
        },
        "id": "99jfvZcc1ihr",
        "outputId": "fae276e0-3279-465a-e71e-93945860db8d"
      },
      "execution_count": 8,
      "outputs": [
        {
          "output_type": "stream",
          "name": "stdout",
          "text": [
            "Conteúdo Original: Conteúdo de Teste\n"
          ]
        }
      ]
    },
    {
      "cell_type": "code",
      "source": [
        "#Exibindo o Valor do Conteúdo Original Criptografado (Encoding latin-1 Utilizado para Mostrar os Caracteres)\n",
        "with open('/content/Teste.txt.enc', 'r', encoding='latin-1') as arquivo:\n",
        "            enc = arquivo.read()\n",
        "print(\"Conteúdo Criptografado: \" + str(enc))"
      ],
      "metadata": {
        "colab": {
          "base_uri": "https://localhost:8080/"
        },
        "id": "TEI7XMuX19s7",
        "outputId": "360bdfaf-cde2-45d8-b3c0-2d3bffb721e1"
      },
      "execution_count": 9,
      "outputs": [
        {
          "output_type": "stream",
          "name": "stdout",
          "text": [
            "Conteúdo Criptografado: ÜöJº\u000b5\u001cû¨\u001eIIâe\u0018=xjø¦\u001a-$8\u0005?@à¨a\u0001^/Þ\u0007ùæËÊ¸äùx^f­.~\u0014\u001fæ´ÜwÙv%=\n"
          ]
        }
      ]
    },
    {
      "cell_type": "code",
      "source": [
        "#Exibindo o Valor do Conteúdo Descriptografado\n",
        "with open('/content/Teste.txt.dec', 'r', encoding='utf-8') as arquivo:\n",
        "            dec = arquivo.read()\n",
        "print(\"Conteúdo Original: \" + str(dec))"
      ],
      "metadata": {
        "colab": {
          "base_uri": "https://localhost:8080/"
        },
        "id": "HjugwZ-p19oX",
        "outputId": "e4beb545-8ec0-41aa-9d3c-3640a974b445"
      },
      "execution_count": 10,
      "outputs": [
        {
          "output_type": "stream",
          "name": "stdout",
          "text": [
            "Conteúdo Original: Conteúdo de Teste\n"
          ]
        }
      ]
    },
    {
      "cell_type": "code",
      "source": [
        "#Apresentação dos Resultados\n",
        "print(org)\n",
        "print(enc)\n",
        "print(dec)"
      ],
      "metadata": {
        "colab": {
          "base_uri": "https://localhost:8080/"
        },
        "id": "Ampvb69C19kz",
        "outputId": "a88a2093-8bfb-4d3c-c0fe-b094f19e7dbd"
      },
      "execution_count": 11,
      "outputs": [
        {
          "output_type": "stream",
          "name": "stdout",
          "text": [
            "Conteúdo de Teste\n",
            "ÜöJº\u000b5\u001cû¨\u001eIIâe\u0018=xjø¦\u001a-$8\u0005?@à¨a\u0001^/Þ\u0007ùæËÊ¸äùx^f­.~\u0014\u001fæ´ÜwÙv%=\n",
            "Conteúdo de Teste\n"
          ]
        }
      ]
    }
  ]
}