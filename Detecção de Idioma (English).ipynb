{
 "cells": [
  {
   "cell_type": "code",
   "execution_count": 1,
   "metadata": {},
   "outputs": [],
   "source": [
    "# we store the english words in a list (maybe a dictionary would be better)\n",
    "ENGLISH_WORDS = []"
   ]
  },
  {
   "cell_type": "code",
   "execution_count": 2,
   "metadata": {},
   "outputs": [],
   "source": [
    "# load the english words\n",
    "def get_data():\n",
    "\n",
    "    dictionary = open('D:/OneDrive/OneDrive - Etec Centro Paula Souza/Github/Criptografia/Anexos/english_words.txt', 'r')\n",
    "\n",
    "    # initialize the ENGLISH_WORDS list with the words present in the file\n",
    "    # every word is in a distinct line so that why we have to split('\\n')\n",
    "    for word in dictionary.read().split('\\n'):\n",
    "        ENGLISH_WORDS.append(word)\n",
    "\n",
    "    dictionary.close()"
   ]
  },
  {
   "cell_type": "code",
   "execution_count": 3,
   "metadata": {},
   "outputs": [],
   "source": [
    "# count the number of english words in a given text\n",
    "def count_words(text):\n",
    "    # upper case letters are needed\n",
    "    text = text.upper()\n",
    "    # transform the text into a list of words (split by spaces)\n",
    "    words = text.split(' ')\n",
    "    # matches counts the number of english words in the text\n",
    "    matches = 0\n",
    "\n",
    "    # consider all the words in the text and check whether the\n",
    "    # given word is english or not\n",
    "    for word in words:\n",
    "        # OPTIMIZE THE DATA STRUCTURE !!!\n",
    "        if word in ENGLISH_WORDS:\n",
    "            matches += 1\n",
    "\n",
    "    return matches"
   ]
  },
  {
   "cell_type": "code",
   "execution_count": 4,
   "metadata": {},
   "outputs": [],
   "source": [
    "# decides whether a given text is english or not\n",
    "def is_text_english(text):\n",
    "    # number of English words in a given text\n",
    "    matches = count_words(text)\n",
    "\n",
    "    # you can define your own classification algorithm\n",
    "    # in this case the assumption: if 50% of the words in the text are english words then\n",
    "    # it is an english text\n",
    "    if (float(matches) / len(text.split(' '))) * 100 >= 50:\n",
    "        return True\n",
    "\n",
    "    # not an english text\n",
    "    return False"
   ]
  },
  {
   "cell_type": "code",
   "execution_count": 5,
   "metadata": {},
   "outputs": [
    {
     "name": "stdout",
     "output_type": "stream",
     "text": [
      "True\n"
     ]
    }
   ],
   "source": [
    "get_data()\n",
    "plain_text = 'My name is Balazs Holczer from Budapest, Hungary. I am working as a software engineer software engineer software engineer at the moment'\n",
    "print(is_text_english(plain_text))"
   ]
  }
 ],
 "metadata": {
  "kernelspec": {
   "display_name": "Python 3",
   "language": "python",
   "name": "python3"
  },
  "language_info": {
   "codemirror_mode": {
    "name": "ipython",
    "version": 3
   },
   "file_extension": ".py",
   "mimetype": "text/x-python",
   "name": "python",
   "nbconvert_exporter": "python",
   "pygments_lexer": "ipython3",
   "version": "3.8.5"
  }
 },
 "nbformat": 4,
 "nbformat_minor": 4
}
