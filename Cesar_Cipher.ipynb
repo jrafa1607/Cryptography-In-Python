{
  "nbformat": 4,
  "nbformat_minor": 0,
  "metadata": {
    "colab": {
      "provenance": [],
      "toc_visible": true
    },
    "kernelspec": {
      "name": "python3",
      "display_name": "Python 3"
    },
    "language_info": {
      "name": "python"
    }
  },
  "cells": [
    {
      "cell_type": "code",
      "execution_count": 1,
      "metadata": {
        "colab": {
          "base_uri": "https://localhost:8080/"
        },
        "id": "BKqiNGSW6U1U",
        "outputId": "cb0cf072-22d5-4248-f0a0-8cc47efcf5cd"
      },
      "outputs": [
        {
          "output_type": "stream",
          "name": "stdout",
          "text": [
            "Alfabeto:  ABCDEFGHIJKLMNOPQRSTUVWXYZ\n",
            "Total de Letras + Espaços: 27\n"
          ]
        }
      ],
      "source": [
        "#Inicialmente, define-se na variável as letras do Alfabeto + Espaço em Branco\n",
        "#Desta forma, será possível realizar as operações matemáticas.\n",
        "\n",
        "ALPHABET = ' ABCDEFGHIJKLMNOPQRSTUVWXYZ'\n",
        "print(\"Alfabeto: \" + str(ALPHABET))\n",
        "print(\"Total de Letras + Espaços: \" + str(len(ALPHABET)))"
      ]
    },
    {
      "cell_type": "code",
      "source": [
        "#Define-se a Key, ou seja, a chave de decriptação:\n",
        "KEY = 6"
      ],
      "metadata": {
        "id": "_2bQi1gD6gTJ"
      },
      "execution_count": 2,
      "outputs": []
    },
    {
      "cell_type": "code",
      "source": [
        "#Escolhe-se uma letra de Exemplo eidentifica-se seu índice\n",
        "\n",
        "c = 'M'\n",
        "index = ALPHABET.find(c)\n",
        "print(\"O Índice da Letra \" + str(c) + \" é: \" + str(index))"
      ],
      "metadata": {
        "colab": {
          "base_uri": "https://localhost:8080/"
        },
        "id": "4W2QVway6j4X",
        "outputId": "ab1c1b46-b402-490d-95ef-1fcc35801ff1"
      },
      "execution_count": 3,
      "outputs": [
        {
          "output_type": "stream",
          "name": "stdout",
          "text": [
            "O Índice da Letra M é: 13\n"
          ]
        }
      ]
    },
    {
      "cell_type": "code",
      "source": [
        "#Efetua-se a soma do valor do Índice com o valor da chave.\n",
        "#Em seguida, faz a divisão do índice pelo total de letras no alfabeto (mod26)\n",
        "#Utiliza-se mod pq a soma pode ultrapassar o total de letras no alfabeto: 27,28,29,30...\n",
        "\n",
        "index = (index + KEY) % len(ALPHABET)\n",
        "print(\"O Índice da Letra \" + str(c) + \" é: \" + str(index))"
      ],
      "metadata": {
        "colab": {
          "base_uri": "https://localhost:8080/"
        },
        "id": "oh2zA21O6qcm",
        "outputId": "7eb8934f-61cb-4ab9-ee42-9c3e876f2603"
      },
      "execution_count": 4,
      "outputs": [
        {
          "output_type": "stream",
          "name": "stdout",
          "text": [
            "O Índice da Letra M é: 19\n"
          ]
        }
      ]
    },
    {
      "cell_type": "code",
      "source": [
        "#Função para Criptografar\n",
        "#Recebe um Texto Limpo, Transforma todas as letras em Maíscula\n",
        "#Para cada letra, calcula o índice, soma o valor com a chave e acrescenta o novo índice na variável cifrada\n",
        "\n",
        "def caesar_encrypt(plain_text):\n",
        "    cipher_text = ''\n",
        "    plain_text = plain_text.upper()\n",
        "\n",
        "    for c in plain_text:\n",
        "        index = ALPHABET.find(c)\n",
        "        index = (index + KEY) % len(ALPHABET)\n",
        "        cipher_text = cipher_text + ALPHABET[index]\n",
        "\n",
        "    return cipher_text"
      ],
      "metadata": {
        "id": "NM1h21Qa6wiR"
      },
      "execution_count": 5,
      "outputs": []
    },
    {
      "cell_type": "code",
      "source": [
        "#Função para Descriptografar\n",
        "#Recebe um texto cifrado, e para cada letra, efetua a subtração do valor do índice pela chave\n",
        "#E depois acrescenta no texto Limpo\n",
        "\n",
        "def caesar_decrypt(cipher_text):\n",
        "    plain_text = ''\n",
        "\n",
        "    for c in cipher_text:\n",
        "        index = ALPHABET.find(c)\n",
        "        index = (index - KEY) % len(ALPHABET)\n",
        "        plain_text = plain_text + ALPHABET[index]\n",
        "\n",
        "    return plain_text"
      ],
      "metadata": {
        "id": "OXsDGG8J6z_S"
      },
      "execution_count": 6,
      "outputs": []
    },
    {
      "cell_type": "code",
      "source": [
        "#Exemplo de Aplicação\n",
        "text = 'Exemplo com Cifra de Cesar'\n",
        "\n",
        "encrypted = caesar_encrypt(text)\n",
        "print(str(\"Texto Criptografado: \" + encrypted))\n",
        "print(str(\"Texto Descriptografado: \" + caesar_decrypt(encrypted)))"
      ],
      "metadata": {
        "colab": {
          "base_uri": "https://localhost:8080/"
        },
        "id": "SSaNjdc-62zo",
        "outputId": "b9652bd3-4894-44fe-c3a0-08c1cb62454e"
      },
      "execution_count": 7,
      "outputs": [
        {
          "output_type": "stream",
          "name": "stdout",
          "text": [
            "Texto Criptografado: KCKSVRUFIUSFIOLXGFJKFIKYGX\n",
            "Texto Descriptografado: EXEMPLO COM CIFRA DE CESAR\n"
          ]
        }
      ]
    },
    {
      "cell_type": "code",
      "source": [
        "#Desenvolvendo uma função de Força Bruta para a Cifra de César\n",
        "#A função irá percorrer todas as letras do alfabeto e para cada índice, tenta o decript do texto\n",
        "#Por fim, faz um print do código obtido naquela tentativa.\n",
        "\n",
        "def crack_caesar(cipher_text):\n",
        "\n",
        "    for key in range(len(ALPHABET)):\n",
        "        plain_text = ''\n",
        "\n",
        "        for c in cipher_text:\n",
        "            index = ALPHABET.find(c)\n",
        "            index = (index - key) % len(ALPHABET)\n",
        "            plain_text = plain_text + ALPHABET[index]\n",
        "\n",
        "        print('With key %s, the result is: %s' % (key, plain_text))"
      ],
      "metadata": {
        "id": "dfB3JjKL66kK"
      },
      "execution_count": 8,
      "outputs": []
    },
    {
      "cell_type": "code",
      "source": [
        "#Exemplo de Aplicação\n",
        "encrypted = 'VJKUBKUBCBOGUUCIG'\n",
        "crack_caesar(encrypted)"
      ],
      "metadata": {
        "colab": {
          "base_uri": "https://localhost:8080/"
        },
        "id": "Ve---wKd69In",
        "outputId": "a363daab-4173-466c-ba1b-31a0674f8701"
      },
      "execution_count": 9,
      "outputs": [
        {
          "output_type": "stream",
          "name": "stdout",
          "text": [
            "With key 0, the result is: VJKUBKUBCBOGUUCIG\n",
            "With key 1, the result is: UIJTAJTABANFTTBHF\n",
            "With key 2, the result is: THIS IS A MESSAGE\n",
            "With key 3, the result is: SGHRZHRZ ZLDRR FD\n",
            "With key 4, the result is: RFGQYGQYZYKCQQZEC\n",
            "With key 5, the result is: QEFPXFPXYXJBPPYDB\n",
            "With key 6, the result is: PDEOWEOWXWIAOOXCA\n",
            "With key 7, the result is: OCDNVDNVWVH NNWB \n",
            "With key 8, the result is: NBCMUCMUVUGZMMVAZ\n",
            "With key 9, the result is: MABLTBLTUTFYLLU Y\n",
            "With key 10, the result is: L AKSAKSTSEXKKTZX\n",
            "With key 11, the result is: KZ JR JRSRDWJJSYW\n",
            "With key 12, the result is: JYZIQZIQRQCVIIRXV\n",
            "With key 13, the result is: IXYHPYHPQPBUHHQWU\n",
            "With key 14, the result is: HWXGOXGOPOATGGPVT\n",
            "With key 15, the result is: GVWFNWFNON SFFOUS\n",
            "With key 16, the result is: FUVEMVEMNMZREENTR\n",
            "With key 17, the result is: ETUDLUDLMLYQDDMSQ\n",
            "With key 18, the result is: DSTCKTCKLKXPCCLRP\n",
            "With key 19, the result is: CRSBJSBJKJWOBBKQO\n",
            "With key 20, the result is: BQRAIRAIJIVNAAJPN\n",
            "With key 21, the result is: APQ HQ HIHUM  IOM\n",
            "With key 22, the result is:  OPZGPZGHGTLZZHNL\n",
            "With key 23, the result is: ZNOYFOYFGFSKYYGMK\n",
            "With key 24, the result is: YMNXENXEFERJXXFLJ\n",
            "With key 25, the result is: XLMWDMWDEDQIWWEKI\n",
            "With key 26, the result is: WKLVCLVCDCPHVVDJH\n"
          ]
        }
      ]
    },
    {
      "cell_type": "code",
      "source": [
        "#Outro Exemplo de Aplicação\n",
        "encrypted2 = 'FLIUDCGHCFHVDU'\n",
        "crack_caesar(encrypted2)"
      ],
      "metadata": {
        "colab": {
          "base_uri": "https://localhost:8080/"
        },
        "id": "Elki4I507Asl",
        "outputId": "15feea1b-595d-4753-81f5-ebefb6f032d9"
      },
      "execution_count": 10,
      "outputs": [
        {
          "output_type": "stream",
          "name": "stdout",
          "text": [
            "With key 0, the result is: FLIUDCGHCFHVDU\n",
            "With key 1, the result is: EKHTCBFGBEGUCT\n",
            "With key 2, the result is: DJGSBAEFADFTBS\n",
            "With key 3, the result is: CIFRA DE CESAR\n",
            "With key 4, the result is: BHEQ ZCDZBDR Q\n",
            "With key 5, the result is: AGDPZYBCYACQZP\n",
            "With key 6, the result is:  FCOYXABX BPYO\n",
            "With key 7, the result is: ZEBNXW AWZAOXN\n",
            "With key 8, the result is: YDAMWVZ VY NWM\n",
            "With key 9, the result is: XC LVUYZUXZMVL\n",
            "With key 10, the result is: WBZKUTXYTWYLUK\n",
            "With key 11, the result is: VAYJTSWXSVXKTJ\n",
            "With key 12, the result is: U XISRVWRUWJSI\n",
            "With key 13, the result is: TZWHRQUVQTVIRH\n",
            "With key 14, the result is: SYVGQPTUPSUHQG\n",
            "With key 15, the result is: RXUFPOSTORTGPF\n",
            "With key 16, the result is: QWTEONRSNQSFOE\n",
            "With key 17, the result is: PVSDNMQRMPREND\n",
            "With key 18, the result is: OURCMLPQLOQDMC\n",
            "With key 19, the result is: NTQBLKOPKNPCLB\n",
            "With key 20, the result is: MSPAKJNOJMOBKA\n",
            "With key 21, the result is: LRO JIMNILNAJ \n",
            "With key 22, the result is: KQNZIHLMHKM IZ\n",
            "With key 23, the result is: JPMYHGKLGJLZHY\n",
            "With key 24, the result is: IOLXGFJKFIKYGX\n",
            "With key 25, the result is: HNKWFEIJEHJXFW\n",
            "With key 26, the result is: GMJVEDHIDGIWEV\n"
          ]
        }
      ]
    }
  ]
}