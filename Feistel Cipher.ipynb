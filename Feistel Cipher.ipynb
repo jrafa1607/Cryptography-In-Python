{
 "cells": [
  {
   "cell_type": "code",
   "execution_count": 1,
   "metadata": {},
   "outputs": [],
   "source": [
    "#Implementação em Python da Cifra de Feistel (Horst Feistel)\n",
    "#Descrição da Cifra: https://pt.alegsaonline.com/art/33900"
   ]
  },
  {
   "cell_type": "code",
   "execution_count": 2,
   "metadata": {},
   "outputs": [],
   "source": [
    "#import das biblioteca para realizar conversões de valores ASCII\n",
    "import binascii"
   ]
  },
  {
   "cell_type": "code",
   "execution_count": 3,
   "metadata": {},
   "outputs": [],
   "source": [
    "#Import das demais bibliotecas\n",
    "import random"
   ]
  },
  {
   "cell_type": "code",
   "execution_count": 4,
   "metadata": {},
   "outputs": [],
   "source": [
    "#Criando uma função para gerar os valores aleatórios\n",
    "#Desta forma, será definida a primeira chave com um range de valores aleatórios entre 0 e 1\n",
    "\n",
    "def rand_key(p):\n",
    "    key1 = \"\"\n",
    "    p = int(p)\n",
    "    \n",
    "    for i in range(p):\n",
    "        temp = random.randint(0,1)\n",
    "        temp = str(temp)\n",
    "        key1 = key1 + temp\n",
    "\n",
    "    return(key1)"
   ]
  },
  {
   "cell_type": "code",
   "execution_count": 5,
   "metadata": {},
   "outputs": [
    {
     "name": "stdout",
     "output_type": "stream",
     "text": [
      "0\n",
      "01\n",
      "010\n",
      "0100\n",
      "01001\n"
     ]
    }
   ],
   "source": [
    "#Exemplo de um range com 5 caracteres com valores entre 0 e 1\n",
    "key1 = \"\"\n",
    "p = 5\n",
    "\n",
    "for i in range(p):\n",
    "    temp = str(random.randint(0,1))\n",
    "    key1 = key1 + temp\n",
    "    \n",
    "    print(key1)"
   ]
  },
  {
   "cell_type": "code",
   "execution_count": 6,
   "metadata": {},
   "outputs": [],
   "source": [
    "#Função para criar o Bit Exor\n",
    "def exor(a,b):\n",
    "    temp = \"\"\n",
    "    \n",
    "    for i in range(n):\n",
    "        if (a[i] == b[i]):\n",
    "            temp += \"0\"\n",
    "        else:\n",
    "            temp += \"1\"\n",
    "\n",
    "    return temp"
   ]
  },
  {
   "cell_type": "code",
   "execution_count": 7,
   "metadata": {},
   "outputs": [],
   "source": [
    "# Criando a função Binario para Decimal\n",
    "def BinaryToDecimal(binary):\n",
    "    \n",
    "    string = int(binary, 2)\n",
    "    return string"
   ]
  },
  {
   "cell_type": "code",
   "execution_count": 8,
   "metadata": {},
   "outputs": [
    {
     "name": "stdout",
     "output_type": "stream",
     "text": [
      "O texto de entrada é: Algoritmo de Feisel\n"
     ]
    }
   ],
   "source": [
    "# Aplicação da Cifra de Feistel\n",
    "text = \"Algoritmo de Feisel\"\n",
    "print(\"O texto de entrada é:\", text)"
   ]
  },
  {
   "cell_type": "code",
   "execution_count": 9,
   "metadata": {},
   "outputs": [
    {
     "name": "stdout",
     "output_type": "stream",
     "text": [
      "[65, 108, 103, 111, 114, 105, 116, 109, 111, 32, 100, 101, 32, 70, 101, 105, 115, 101, 108]\n"
     ]
    }
   ],
   "source": [
    "#Conversão do texto puro para seu valor em ASCII\n",
    "text_ascii = [ord(x) for x in text]\n",
    "print(text_ascii)"
   ]
  },
  {
   "cell_type": "code",
   "execution_count": 10,
   "metadata": {},
   "outputs": [
    {
     "name": "stdout",
     "output_type": "stream",
     "text": [
      "01000001011011000110011101101111011100100110100101110100011011010110111100100000011001000110010100100000010001100110010101101001011100110110010101101100\n",
      "\n",
      "O total de caracteres após a conversão para 8bits é: 76\n"
     ]
    }
   ],
   "source": [
    "#Conversão dos valores ASCII para 8bit\n",
    "text_bin = [format(y,'08b') for y in text_ascii]\n",
    "text_bin = \"\".join(text_bin)\n",
    "\n",
    "n = int(len(text_bin)//2)\n",
    "L1 = text_bin[0:n]\n",
    "R1 = text_bin[n::]\n",
    "m = len(R1)\n",
    "\n",
    "print(text_bin)\n",
    "print(\"\\nO total de caracteres após a conversão para 8bits é:\", m)"
   ]
  },
  {
   "cell_type": "code",
   "execution_count": 11,
   "metadata": {},
   "outputs": [
    {
     "name": "stdout",
     "output_type": "stream",
     "text": [
      "O valor de K1 é: 0001101010111111011011001110110010000011010011010001001011010100011100001001\n",
      "O valor de K2 é: 0111001000110100010000100000000001101001000100101111010000110100110001101011\n"
     ]
    }
   ],
   "source": [
    "#Processo de Descriptografia\n",
    "#Definição das duas chaves aleatórias passando o total de caracteres\n",
    "\n",
    "K1= rand_key(m)\n",
    "K2= rand_key(m)\n",
    "\n",
    "print(\"O valor de K1 é:\", K1)\n",
    "print(\"O valor de K2 é:\", K2)"
   ]
  },
  {
   "cell_type": "code",
   "execution_count": 12,
   "metadata": {},
   "outputs": [
    {
     "name": "stdout",
     "output_type": "stream",
     "text": [
      "0000011001000110010100100000010001100110010101101001011100110110010101101100\n"
     ]
    }
   ],
   "source": [
    "#Primeira rodada do ALgoritmo de Feisel\n",
    "f1 = exor(R1,K1)\n",
    "R2 = exor(f1,L1)\n",
    "L2 = R1\n",
    "\n",
    "print(L2)"
   ]
  },
  {
   "cell_type": "code",
   "execution_count": 13,
   "metadata": {},
   "outputs": [
    {
     "name": "stdout",
     "output_type": "stream",
     "text": [
      "0101110110010101010110011000011110010111011100101111000110001111010010010111\n"
     ]
    }
   ],
   "source": [
    "#Segunda rodada do ALgoritmo de Feisel\n",
    "f2 = exor(R2,K2)\n",
    "R3 = exor(f2,L2)\n",
    "L3 = R2\n",
    "\n",
    "print(L3)"
   ]
  },
  {
   "cell_type": "code",
   "execution_count": 14,
   "metadata": {},
   "outputs": [
    {
     "name": "stdout",
     "output_type": "stream",
     "text": [
      "Cipher Text:  .e+\u0018<]eqGR.)sR09AZ%\r",
      "l\u0010\n"
     ]
    }
   ],
   "source": [
    "#Visualizando o texto cifrado\n",
    "bin_data = L3 + R3\n",
    "str_data =' '\n",
    "\n",
    "for i in range(0, len(bin_data), 7):\n",
    "    temp_data = bin_data[i:i + 7]\n",
    "    \n",
    "    decimal_data = BinaryToDecimal(temp_data)\n",
    "    str_data = str_data + chr(decimal_data)\n",
    "    \n",
    "print(\"Cipher Text:\", str_data)"
   ]
  },
  {
   "cell_type": "code",
   "execution_count": 15,
   "metadata": {},
   "outputs": [
    {
     "name": "stdout",
     "output_type": "stream",
     "text": [
      "0010100111100111010010011000001110011000001101101001001010001101110110010000\n"
     ]
    }
   ],
   "source": [
    "#Visualizando o texto descriptografado\n",
    "#Primeira rodada para descriptografar\n",
    "\n",
    "L4 = L3\n",
    "R4 = R3\n",
    "\n",
    "print(R4)"
   ]
  },
  {
   "cell_type": "code",
   "execution_count": 16,
   "metadata": {},
   "outputs": [
    {
     "name": "stdout",
     "output_type": "stream",
     "text": [
      "0101110110010101010110011000011110010111011100101111000110001111010010010111\n"
     ]
    }
   ],
   "source": [
    "#Segunda rodada para descriptografar\n",
    "\n",
    "f3 = exor(L4,K2)\n",
    "L5 = exor(R4,f3)\n",
    "R5 = L4\n",
    "\n",
    "print(L4)"
   ]
  },
  {
   "cell_type": "code",
   "execution_count": 17,
   "metadata": {},
   "outputs": [
    {
     "name": "stdout",
     "output_type": "stream",
     "text": [
      "01000001011011000110011101101111011100100110100101110100011011010110111100100000011001000110010100100000010001100110010101101001011100110110010101101100\n"
     ]
    }
   ],
   "source": [
    "#Somatório dos valores obtidos com a chave inicial\n",
    "\n",
    "f4 = exor(L5,K1)\n",
    "L6 = exor(R5,f4)\n",
    "R6 = L5\n",
    "PT1 = L6+R6\n",
    "\n",
    "print(PT1)"
   ]
  },
  {
   "cell_type": "code",
   "execution_count": 18,
   "metadata": {},
   "outputs": [
    {
     "name": "stdout",
     "output_type": "stream",
     "text": [
      "Retrieved Plain Text is:  b'Algoritmo de Feisel'\n"
     ]
    }
   ],
   "source": [
    "#Descriptografando a Mensagem\n",
    "PT1 = int(PT1, 2)\n",
    "RPT = binascii.unhexlify( '%x'% PT1)\n",
    "print(\"Retrieved Plain Text is: \", RPT)"
   ]
  }
 ],
 "metadata": {
  "kernelspec": {
   "display_name": "Python 3 (ipykernel)",
   "language": "python",
   "name": "python3"
  },
  "language_info": {
   "codemirror_mode": {
    "name": "ipython",
    "version": 3
   },
   "file_extension": ".py",
   "mimetype": "text/x-python",
   "name": "python",
   "nbconvert_exporter": "python",
   "pygments_lexer": "ipython3",
   "version": "3.8.5"
  }
 },
 "nbformat": 4,
 "nbformat_minor": 4
}
